{
 "cells": [
  {
   "cell_type": "markdown",
   "metadata": {},
   "source": [
    "# Q-Learning\n"
   ]
  },
  {
   "cell_type": "code",
   "execution_count": 2,
   "metadata": {},
   "outputs": [
    {
     "name": "stdout",
     "output_type": "stream",
     "text": [
      "Requirement already satisfied: gym in c:\\users\\sebas\\proyectos\\reinforcement-learning-introduction\\.venv\\lib\\site-packages (0.26.2)\n",
      "Requirement already satisfied: numpy>=1.18.0 in c:\\users\\sebas\\proyectos\\reinforcement-learning-introduction\\.venv\\lib\\site-packages (from gym) (1.25.1)\n",
      "Requirement already satisfied: cloudpickle>=1.2.0 in c:\\users\\sebas\\proyectos\\reinforcement-learning-introduction\\.venv\\lib\\site-packages (from gym) (2.2.1)\n",
      "Requirement already satisfied: gym-notices>=0.0.4 in c:\\users\\sebas\\proyectos\\reinforcement-learning-introduction\\.venv\\lib\\site-packages (from gym) (0.0.8)\n",
      "Note: you may need to restart the kernel to use updated packages.\n",
      "Requirement already satisfied: numpy in c:\\users\\sebas\\proyectos\\reinforcement-learning-introduction\\.venv\\lib\\site-packages (1.25.1)\n",
      "Note: you may need to restart the kernel to use updated packages.\n",
      "Requirement already satisfied: matplotlib in c:\\users\\sebas\\proyectos\\reinforcement-learning-introduction\\.venv\\lib\\site-packages (3.7.2)\n",
      "Requirement already satisfied: contourpy>=1.0.1 in c:\\users\\sebas\\proyectos\\reinforcement-learning-introduction\\.venv\\lib\\site-packages (from matplotlib) (1.1.0)\n",
      "Requirement already satisfied: cycler>=0.10 in c:\\users\\sebas\\proyectos\\reinforcement-learning-introduction\\.venv\\lib\\site-packages (from matplotlib) (0.11.0)\n",
      "Requirement already satisfied: fonttools>=4.22.0 in c:\\users\\sebas\\proyectos\\reinforcement-learning-introduction\\.venv\\lib\\site-packages (from matplotlib) (4.40.0)\n",
      "Requirement already satisfied: kiwisolver>=1.0.1 in c:\\users\\sebas\\proyectos\\reinforcement-learning-introduction\\.venv\\lib\\site-packages (from matplotlib) (1.4.4)\n",
      "Requirement already satisfied: numpy>=1.20 in c:\\users\\sebas\\proyectos\\reinforcement-learning-introduction\\.venv\\lib\\site-packages (from matplotlib) (1.25.1)\n",
      "Requirement already satisfied: packaging>=20.0 in c:\\users\\sebas\\proyectos\\reinforcement-learning-introduction\\.venv\\lib\\site-packages (from matplotlib) (23.1)\n",
      "Requirement already satisfied: pillow>=6.2.0 in c:\\users\\sebas\\proyectos\\reinforcement-learning-introduction\\.venv\\lib\\site-packages (from matplotlib) (10.0.0)\n",
      "Requirement already satisfied: pyparsing<3.1,>=2.3.1 in c:\\users\\sebas\\proyectos\\reinforcement-learning-introduction\\.venv\\lib\\site-packages (from matplotlib) (3.0.9)\n",
      "Requirement already satisfied: python-dateutil>=2.7 in c:\\users\\sebas\\proyectos\\reinforcement-learning-introduction\\.venv\\lib\\site-packages (from matplotlib) (2.8.2)\n",
      "Requirement already satisfied: six>=1.5 in c:\\users\\sebas\\proyectos\\reinforcement-learning-introduction\\.venv\\lib\\site-packages (from python-dateutil>=2.7->matplotlib) (1.16.0)\n",
      "Note: you may need to restart the kernel to use updated packages.\n"
     ]
    }
   ],
   "source": [
    "%pip install gym\n",
    "%pip install numpy\n",
    "%pip install matplotlib\n",
    "%pip install pygame"
   ]
  },
  {
   "cell_type": "code",
   "execution_count": 3,
   "metadata": {},
   "outputs": [],
   "source": [
    "import gym\n",
    "import numpy as np\n",
    "import time\n",
    "import matplotlib.pyplot as plt"
   ]
  },
  {
   "cell_type": "markdown",
   "metadata": {},
   "source": [
    "### Idea\n",
    "Armar una Q-Tabla de (ESTADOS x ACCIONES_POSIBLES) a partir de la exploracion del entorno donde\n",
    "> Q[s, a] = INMEDIATE REWARD + FUTURE VALUE\n",
    "\n",
    "Cada vez que estoy en uno estado de la tabla, elijo la accion con el valor maximo.\n",
    "\n",
    "#### Updating Q-Values\n",
    "The formula for updating the Q-Table after each action is as follows:\n",
    "> $ Q[state, action] = Q[state, action] + \\alpha * (reward + \\gamma * max(Q[newState, :]) - Q[state, action]) $\n",
    "\n",
    "- $\\alpha$ stands for the **Learning Rate**\n",
    "\n",
    "- $\\gamma$ stands for the **Discount Factor**\n",
    "\n",
    "#### Learning Rate $\\alpha$\n",
    "The learning rate $\\alpha$ is a numeric constant that defines how much change is permitted on each QTable update. A high learning rate means that each update will introduce a large change to the current state-action value. A small learning rate means that each update has a more subtle change. Modifying the learning rate will change how the agent explores the enviornment and how quickly it determines the final values in the QTable.\n",
    "\n",
    "#### Discount Factor $\\gamma$\n",
    "Discount factor also know as gamma ($\\gamma$) is used to balance how much focus is put on the current and future reward. A high discount factor means that future rewards will be considered more heavily."
   ]
  },
  {
   "cell_type": "markdown",
   "metadata": {},
   "source": [
    "## Cargo el entorno"
   ]
  },
  {
   "cell_type": "code",
   "execution_count": 4,
   "metadata": {},
   "outputs": [],
   "source": [
    "env = gym.make('FrozenLake-v1', render_mode=\"rgb_array\")"
   ]
  },
  {
   "cell_type": "markdown",
   "metadata": {},
   "source": [
    "> Observacion: <br>\n",
    "> En la nueva api de openAI, env.step(action) devolvia solo done, para evitar ambiguedades ahora devuelve:\n",
    "> * Truncated: Episode truncating.\n",
    "> * Terminated: Episode terminating. <br>\n",
    "\n",
    "> Done = truncated OR terminated "
   ]
  },
  {
   "cell_type": "code",
   "execution_count": 5,
   "metadata": {},
   "outputs": [],
   "source": [
    "# flujo de ejecucion ~ ejemplo\n",
    "# state, _ = env.reset()  # reset enviornment to default state\n",
    "# action = env.action_space.sample() # get a random action \n",
    "# next_state, reward, terminated, truncated, info = env.step(action) # take action, notice it returns information about the action\n",
    "# env.render()   # render the GUI for the enviornment "
   ]
  },
  {
   "cell_type": "markdown",
   "metadata": {},
   "source": [
    "## Inicializo la Q-table"
   ]
  },
  {
   "cell_type": "code",
   "execution_count": 6,
   "metadata": {},
   "outputs": [],
   "source": [
    "STATES = env.observation_space.n # cantidad de estados posibles\n",
    "ACTIONS = env.action_space.n # cantidad de acciones posibles\n",
    "Q = np.zeros((STATES, ACTIONS))"
   ]
  },
  {
   "cell_type": "markdown",
   "metadata": {},
   "source": [
    "## Entreno la Q-table"
   ]
  },
  {
   "cell_type": "code",
   "execution_count": 55,
   "metadata": {},
   "outputs": [],
   "source": [
    "def train_q_table(Q, EPISODES, MAX_STEPS, LEARNING_RATE, GAMMA, RENDER, epsilon):\n",
    "\n",
    "  # Entrena la Q-Tabla con los siguientes hiperparametros:\n",
    "\n",
    "  # EPISODES: Cantidad de episodios\n",
    "  # MAX_STEPS: Cantidad de pasos máximos por episodio\n",
    "  # LEARNING_RATE: Tasa de aprendizaje\n",
    "  # GAMMA: Factor de descuento\n",
    "  # RENDER: Si se desea ver el entrenamiento\n",
    "  # epsilon: Probabilidad de exploración\n",
    "\n",
    "  rewards = []\n",
    "  for episode in range(EPISODES):\n",
    "\n",
    "    # estado inicial\n",
    "    state, _ = env.reset()\n",
    "\n",
    "    for _ in range(MAX_STEPS):\n",
    "      \n",
    "      if RENDER:\n",
    "        # muestro en pantalla\n",
    "        env.render()\n",
    "\n",
    "      # elijo una accion, donde epsilon es la probabilidad de exploracion\n",
    "      if np.random.uniform(0, 1) < epsilon:\n",
    "        # accion aleatoria\n",
    "        action = env.action_space.sample()  \n",
    "      else:\n",
    "        # accion segun la tabla Q\n",
    "        action = np.argmax(Q[state, :])\n",
    "\n",
    "      # ejecuto la accion y avanzo al siguiente estado\n",
    "      next_state, reward, terminated, truncated, _ = env.step(action)\n",
    "      done = terminated or truncated\n",
    "\n",
    "      # actualizo la tabla Q\n",
    "      Q[state, action] = Q[state, action] + LEARNING_RATE * (reward + GAMMA * np.max(Q[next_state, :]) - Q[state, action])\n",
    "\n",
    "      # actualizo el estado\n",
    "      state = next_state\n",
    "      \n",
    "      if done: \n",
    "        rewards.append(reward)\n",
    "        epsilon -= 0.001\n",
    "        break  # reached goal\n",
    "      \n",
    "  return rewards"
   ]
  },
  {
   "cell_type": "code",
   "execution_count": 63,
   "metadata": {},
   "outputs": [
    {
     "data": {
      "text/plain": [
       "0.354"
      ]
     },
     "execution_count": 63,
     "metadata": {},
     "output_type": "execute_result"
    }
   ],
   "source": [
    "EPISODES = 1500 # how many times to run the enviornment from the beginning\n",
    "MAX_STEPS = 100  # max number of steps allowed for each run of enviornment\n",
    "LEARNING_RATE = 0.81  # learning rate\n",
    "GAMMA = 0.96\n",
    "RENDER = False # if you want to see training set to true\n",
    "epsilon = 0.9\n",
    "\n",
    "rewards = train_q_table(Q, EPISODES, MAX_STEPS, LEARNING_RATE, GAMMA, RENDER, epsilon)\n",
    "np.mean(rewards)"
   ]
  },
  {
   "cell_type": "markdown",
   "metadata": {},
   "source": [
    "## Evaluando el progreso del reward "
   ]
  },
  {
   "cell_type": "code",
   "execution_count": 64,
   "metadata": {},
   "outputs": [
    {
     "data": {
      "image/png": "[encoded data removed]",
      "text/plain": [
       "<Figure size 640x480 with 1 Axes>"
      ]
     },
     "metadata": {},
     "output_type": "display_data"
    }
   ],
   "source": [
    "def get_average(values):\n",
    "  return sum(values)/len(values)\n",
    "\n",
    "avg_rewards = []\n",
    "for i in range(0, len(rewards), 100):\n",
    "  avg_rewards.append(get_average(rewards[i:i+100])) \n",
    "\n",
    "plt.plot(avg_rewards)\n",
    "plt.ylabel('average reward')\n",
    "plt.xlabel('episodes (100\\'s)')\n",
    "plt.show()"
   ]
  },
  {
   "cell_type": "code",
   "execution_count": 60,
   "metadata": {},
   "outputs": [
    {
     "data": {
      "text/plain": [
       "[0.0, 0.0]"
      ]
     },
     "execution_count": 60,
     "metadata": {},
     "output_type": "execute_result"
    }
   ],
   "source": [
    "train_q_table(Q, 2, MAX_STEPS, LEARNING_RATE, GAMMA, True, epsilon)"
   ]
  },
  {
   "cell_type": "markdown",
   "metadata": {},
   "source": [
    "## Jugando"
   ]
  },
  {
   "cell_type": "code",
   "execution_count": 71,
   "metadata": {},
   "outputs": [
    {
     "name": "stderr",
     "output_type": "stream",
     "text": [
      "c:\\Users\\sebas\\Proyectos\\Reinforcement-Learning-Introduction\\.venv\\lib\\site-packages\\gym\\utils\\passive_env_checker.py:233: DeprecationWarning: `np.bool8` is a deprecated alias for `np.bool_`.  (Deprecated NumPy 1.24)\n",
      "  if not isinstance(terminated, (bool, np.bool8)):\n"
     ]
    }
   ],
   "source": [
    "env = gym.make('FrozenLake-v1', render_mode=\"human\")\n",
    "state, _ = env.reset()\n",
    "done = False\n",
    "while not done:\n",
    "    action = np.argmax(Q[state,:])\n",
    "    state, reward, terminated, truncated, info = env.step(action)\n",
    "    done = terminated or truncated\n",
    "    env.render()\n",
    "    time.sleep(0.5)"
   ]
  }
 ],
 "metadata": {
  "kernelspec": {
   "display_name": "Python 3",
   "language": "python",
   "name": "python3"
  },
  "language_info": {
   "codemirror_mode": {
    "name": "ipython",
    "version": 3
   },
   "file_extension": ".py",
   "mimetype": "text/x-python",
   "name": "python",
   "nbconvert_exporter": "python",
   "pygments_lexer": "ipython3",
   "version": "3.10.11"
  },
  "orig_nbformat": 4
 },
 "nbformat": 4,
 "nbformat_minor": 2
}
